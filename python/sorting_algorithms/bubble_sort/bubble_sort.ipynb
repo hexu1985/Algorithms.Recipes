{
 "cells": [
  {
   "cell_type": "markdown",
   "id": "7901c252-c4cd-4da5-8da3-5c21eed5e75a",
   "metadata": {},
   "source": [
    "# 冒泡排序"
   ]
  },
  {
   "cell_type": "markdown",
   "id": "b81fe749-def6-4a12-a137-1d06ab19ea9f",
   "metadata": {},
   "source": [
    "冒泡排序多次遍历列表。它比较相邻的元素，将不合顺序的交换。每一轮遍历都将下一个最\n",
    "大值放到正确的位置上。本质上，每个元素通过“冒泡”找到自己所属的位置。"
   ]
  },
  {
   "cell_type": "markdown",
   "id": "d2a327cc-0140-47ba-b6a3-035904e66860",
   "metadata": {},
   "source": [
    "下图展示了冒泡排序的第一轮遍历过程。深色的是正在比较的元素。如果列表中有 n 个元素，那么第一轮遍历要比较 n–1 对。注意，最大的元素会一直往前挪，直到遍历过程结束。"
   ]
  },
  {
   "cell_type": "markdown",
   "id": "4a4edd41-17e7-4cf0-b9f0-f22ee1d50a67",
   "metadata": {},
   "source": [
    "![冒泡排序](bubble_sort.jpg)"
   ]
  },
  {
   "cell_type": "code",
   "execution_count": null,
   "id": "eeee5c45-c969-48f2-8247-777b79f1601d",
   "metadata": {},
   "outputs": [],
   "source": []
  }
 ],
 "metadata": {
  "kernelspec": {
   "display_name": "Python 3 (ipykernel)",
   "language": "python",
   "name": "python3"
  },
  "language_info": {
   "codemirror_mode": {
    "name": "ipython",
    "version": 3
   },
   "file_extension": ".py",
   "mimetype": "text/x-python",
   "name": "python",
   "nbconvert_exporter": "python",
   "pygments_lexer": "ipython3",
   "version": "3.12.7"
  }
 },
 "nbformat": 4,
 "nbformat_minor": 5
}
