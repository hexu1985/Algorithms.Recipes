{
 "cells": [
  {
   "cell_type": "markdown",
   "id": "810002c3-3208-437c-930a-1457511a5159",
   "metadata": {},
   "source": [
    "**问题：背包问题**\n",
    "\n",
    "**输入**：物品价值$v_1,v_2,…,v_n$；物品大小$s_1,s_2,…,s_n$；背包容量$C$（所有的值均为正整数）。\n",
    "\n",
    "**输出**：一个物品子集$S \\subseteq \\{ 1, 2,…,n \\}$ ，具有最大的价值之和$\\sum_{i \\in S} v_i$，但必须满足总大小$\\sum_{i \\in S} s_i$ 不超过 $C$。"
   ]
  },
  {
   "cell_type": "markdown",
   "id": "3eeb7578-b54f-4aab-9a24-e4be152a5f5f",
   "metadata": {},
   "source": [
    "考虑下面这个背包问题的实例，背包的容量C= 6并且有4件物品\n",
    "\n",
    "| 物品 | 价值 | 大小 |\n",
    "| ---- | ---- | ---- |\n",
    "| 1    | 3    | 4    |\n",
    "| 2    | 2    | 3    |\n",
    "| 3    | 4    | 2    |\n",
    "| 4    | 4    | 3    |\n",
    "\n",
    "最优解决方案的总价值是多少呢？"
   ]
  },
  {
   "cell_type": "markdown",
   "id": "246d7e45-271a-4c2a-a903-c1af56873cee",
   "metadata": {},
   "source": [
    "为了在背包问题中应用动态规划，我们必须推断出正确的子问题集合。  \n",
    "为了实现这个目标，我们需要推断出最优解决方案的结构，并确认从更小子问题的最优解决方案构造更大子问题解决方案的不同方式。"
   ]
  },
  {
   "cell_type": "markdown",
   "id": "d69a2e8c-b9d3-4318-99b4-eb3843c80676",
   "metadata": {},
   "source": [
    "这种操作的另一个成果是一个推导公式，它可以从两个更小子问题的解决方案中计算出一个更大子问题的解决方案。"
   ]
  },
  {
   "cell_type": "markdown",
   "id": "ea6cd021-27b4-445f-9041-1f3321683b4e",
   "metadata": {},
   "source": [
    "这个最优解决方案看上去应该是怎么样的呢？\n",
    "我们可以从一个思路出发：$S$ 要么包含了最后一件物品（物品 $n$），要么不包含它。"
   ]
  },
  {
   "cell_type": "markdown",
   "id": "78d68f9c-3700-4a93-97d5-f286c60720e7",
   "metadata": {},
   "source": [
    "**背包问题的最优子结构**\n",
    "\n",
    "设$S$是具有$n≥1$件物品、物品价值$v_1,v_2,…,v_n$、物品大小$s_1,s_2,…,s_n$、背包容量$C$的背包问题的最优解决方案。\n",
    "则$S$必为下面两者之一："
   ]
  },
  {
   "cell_type": "markdown",
   "id": "80b22084-c812-42b3-a141-245bac987e3a",
   "metadata": {},
   "source": [
    "（a）由前$n - 1$件物品组成的背包容量为$C$的子问题的最优解决方案。"
   ]
  },
  {
   "cell_type": "markdown",
   "id": "ab0e03f0-129c-472b-b834-a2f3d93fa36f",
   "metadata": {},
   "source": [
    "（b）由前$n - 1$件物品组成的背包容量为$C - s_n$的子问题的最优解决方案再加上最后一件物品$n$。"
   ]
  },
  {
   "cell_type": "markdown",
   "id": "1f5692d9-82b1-4cc2-87e0-af41b8b45e33",
   "metadata": {},
   "source": [
    "（a）的解决方案总是最优解决方案的选项之一。（b）的解决方案当且仅当$s_n≤C$时才是选项之一。  \n",
    "在这种情况下，可以有效地预先为物品$n$保留$s_n$个单位的容量。  \n",
    "具有更大总价值的那个选项就是最优解决方案"
   ]
  },
  {
   "cell_type": "code",
   "execution_count": null,
   "id": "97739c1f-370c-419a-b3ba-f089af50bb18",
   "metadata": {},
   "outputs": [],
   "source": []
  }
 ],
 "metadata": {
  "kernelspec": {
   "display_name": "Python 3 (ipykernel)",
   "language": "python",
   "name": "python3"
  },
  "language_info": {
   "codemirror_mode": {
    "name": "ipython",
    "version": 3
   },
   "file_extension": ".py",
   "mimetype": "text/x-python",
   "name": "python",
   "nbconvert_exporter": "python",
   "pygments_lexer": "ipython3",
   "version": "3.12.7"
  }
 },
 "nbformat": 4,
 "nbformat_minor": 5
}
