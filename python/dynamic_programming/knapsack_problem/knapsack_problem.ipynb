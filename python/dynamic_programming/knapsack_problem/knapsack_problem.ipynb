{
 "cells": [
  {
   "cell_type": "markdown",
   "id": "810002c3-3208-437c-930a-1457511a5159",
   "metadata": {},
   "source": [
    "**问题：背包问题**\n",
    "\n",
    "**输入**：物品价值$v_1,v_2,…,v_n$；物品大小$s_1,s_2,…,s_n$；背包容量$C$（所有的值均为正整数）。\n",
    "\n",
    "**输出**：一个物品子集$S \\subseteq \\{ 1, 2,…,n \\}$ ，具有最大的价值之和$\\sum_{i \\in S} v_i$，但必须满足总大小$\\sum_{i \\in S} s_i$ 不超过 $C$。"
   ]
  },
  {
   "cell_type": "code",
   "execution_count": null,
   "id": "c24edb33-df5f-45e8-a245-980d0c3a24a0",
   "metadata": {},
   "outputs": [],
   "source": []
  }
 ],
 "metadata": {
  "kernelspec": {
   "display_name": "Python 3 (ipykernel)",
   "language": "python",
   "name": "python3"
  },
  "language_info": {
   "codemirror_mode": {
    "name": "ipython",
    "version": 3
   },
   "file_extension": ".py",
   "mimetype": "text/x-python",
   "name": "python",
   "nbconvert_exporter": "python",
   "pygments_lexer": "ipython3",
   "version": "3.12.7"
  }
 },
 "nbformat": 4,
 "nbformat_minor": 5
}
