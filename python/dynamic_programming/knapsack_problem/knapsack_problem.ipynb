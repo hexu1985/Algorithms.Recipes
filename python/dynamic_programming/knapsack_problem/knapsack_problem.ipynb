{
 "cells": [
  {
   "cell_type": "markdown",
   "id": "810002c3-3208-437c-930a-1457511a5159",
   "metadata": {},
   "source": [
    "**问题：背包问题**\n",
    "\n",
    "**输入**：物品价值$v_1,v_2,…,v_n$；物品大小$s_1,s_2,…,s_n$；背包容量$C$（所有的值均为正整数）。\n",
    "\n",
    "**输出**：一个物品子集$S \\subseteq \\{ 1, 2,…,n \\}$ ，具有最大的价值之和$\\sum_{i \\in S} v_i$，但必须满足总大小$\\sum_{i \\in S} s_i$ 不超过 $C$。"
   ]
  },
  {
   "cell_type": "markdown",
   "id": "3eeb7578-b54f-4aab-9a24-e4be152a5f5f",
   "metadata": {},
   "source": [
    "考虑下面这个背包问题的实例，背包的容量C= 6并且有4件物品\n",
    "\n",
    "| 物品 | 价值 | 大小 |\n",
    "| ---- | ---- | ---- |\n",
    "| 1    | 3    | 4    |\n",
    "| 2    | 2    | 3    |\n",
    "| 3    | 4    | 2    |\n",
    "| 4    | 4    | 3    |\n",
    "\n",
    "最优解决方案的总价值是多少呢？"
   ]
  },
  {
   "cell_type": "markdown",
   "id": "246d7e45-271a-4c2a-a903-c1af56873cee",
   "metadata": {},
   "source": [
    "为了在背包问题中应用动态规划，我们必须推断出正确的子问题集合。  \n",
    "为了实现这个目标，我们需要推断出最优解决方案的结构，并确认从更小子问题的最优解决方案构造更大子问题解决方案的不同方式。"
   ]
  },
  {
   "cell_type": "markdown",
   "id": "d69a2e8c-b9d3-4318-99b4-eb3843c80676",
   "metadata": {},
   "source": [
    "这种操作的另一个成果是一个推导公式，它可以从两个更小子问题的解决方案中计算出一个更大子问题的解决方案。"
   ]
  },
  {
   "cell_type": "markdown",
   "id": "ea6cd021-27b4-445f-9041-1f3321683b4e",
   "metadata": {},
   "source": [
    "这个最优解决方案看上去应该是怎么样的呢？\n",
    "我们可以从一个思路出发：$S$ 要么包含了最后一件物品（物品 $n$），要么不包含它。"
   ]
  },
  {
   "cell_type": "markdown",
   "id": "78d68f9c-3700-4a93-97d5-f286c60720e7",
   "metadata": {},
   "source": [
    "**背包问题的最优子结构**\n",
    "\n",
    "设$S$是具有$n≥1$件物品、物品价值$v_1,v_2,…,v_n$、物品大小$s_1,s_2,…,s_n$、背包容量$C$的背包问题的最优解决方案。\n",
    "则$S$必为下面两者之一："
   ]
  },
  {
   "cell_type": "markdown",
   "id": "80b22084-c812-42b3-a141-245bac987e3a",
   "metadata": {},
   "source": [
    "（a）由前$n - 1$件物品组成的背包容量为$C$的子问题的最优解决方案。"
   ]
  },
  {
   "cell_type": "markdown",
   "id": "ab0e03f0-129c-472b-b834-a2f3d93fa36f",
   "metadata": {},
   "source": [
    "（b）由前$n - 1$件物品组成的背包容量为$C - s_n$的子问题的最优解决方案再加上最后一件物品$n$。"
   ]
  },
  {
   "cell_type": "markdown",
   "id": "1f5692d9-82b1-4cc2-87e0-af41b8b45e33",
   "metadata": {},
   "source": [
    "（a）的解决方案总是最优解决方案的选项之一。（b）的解决方案当且仅当$s_n≤C$时才是选项之一。  \n",
    "在这种情况下，可以有效地预先为物品$n$保留$s_n$个单位的容量。具有更大总价值的那个选项就是最优解决方案，从而形成下面的推导公式。"
   ]
  },
  {
   "cell_type": "markdown",
   "id": "b1335299-28dc-48b2-9b3b-4866e12fbbe2",
   "metadata": {},
   "source": [
    "**背包问题的推导公式**\n",
    "\n",
    "根据**背包问题的最优子结构**的假设和说明，设$V_{i,c}$表示总大小不超过$c$的前$i$件物品所组成的子集的最大总价值\n",
    "（当$i = 0$时，$V_{i,c}$可以看成$0$）。对于每个$i = 1, 2,…, n$和$c = 0, 1, 2,…, C$：\n",
    "\n",
    "$V_{i,c} = \\begin{cases} \\underbrace{V_{i-1,c}}_{情况1} & S_i > c \\\\ max \\{ \\underbrace{V_{i-1,c}}_{情况1}, \\underbrace{V_{i-1,c-s_i} + v_i}_{情况2} \\} & S_i \\le c \\end{cases}$\n",
    "\n",
    "由于$c$和物品的大小都是整数，因此第二个表达式中的剩余容量$c - s_i$也是整数。"
   ]
  },
  {
   "cell_type": "markdown",
   "id": "b7969428-e4f3-490a-bbcc-f480914c7e5d",
   "metadata": {},
   "source": [
    "下一个步骤是定义相关子问题的集合，并使用**背包问题的推导公式**系统地解决这些子问题。至于现在，我们把注意力集中在计算每个子问题的最优解决方案的总价值上。"
   ]
  },
  {
   "cell_type": "markdown",
   "id": "93b30d36-de3e-409e-9c85-fef8e2d5ffb2",
   "metadata": {},
   "source": [
    "对于背包问题，子问题应该由两个索引进行参数化：前几个物品的长度$i$和可用的背包容量$c$。对两个参数所有相关的值均加以考虑，我们就可以得到子问题。"
   ]
  },
  {
   "cell_type": "markdown",
   "id": "3d371b6c-b994-440d-8e2f-8351c2f6a0cf",
   "metadata": {},
   "source": [
    "**背包问题的子问题**\n",
    "\n",
    "计算前$i$个物品和背包容量为$c$的最优背包解决方案的总价值$V_{i,c}（i =0,1,2,…,n，c=0,1,2,…, C）$。"
   ]
  },
  {
   "cell_type": "markdown",
   "id": "bb3ca109-2e7f-4484-99a4-c5eedba6c13a",
   "metadata": {},
   "source": [
    "最大子问题$（i = n且c = C）$就与原问题相同。由于所有物品的大小和背包容量$C$都是正整数，并且由于容量总是会减去某个物品的大小（为它保留空间），因此剩下的容量只可能在$0～C$。"
   ]
  },
  {
   "cell_type": "markdown",
   "id": "26056834-8b25-4552-891f-79c77b465df3",
   "metadata": {},
   "source": [
    "明确了子问题和推导公式之后，我们立即就能想到背包问题的一种动态规划算法。"
   ]
  },
  {
   "cell_type": "markdown",
   "id": "dccf0ec4-24f6-40e1-a9a1-aad10ed4bc66",
   "metadata": {},
   "source": [
    "**算法：背包问题**\n",
    "\n",
    "**输入**：物品价值$v_1,v_2,…,v_n$，物品大小$s_1,s_2,…,s_n$和背包容量$C$（均为正整数）。\n",
    "\n",
    "**输出**：具有最大总价值的子集$S \\subseteq \\{ 1, 2,…,n \\}$ ，满足总大小$\\sum_{i \\in S} s_i \\le C$。\n",
    "\n",
    "---\n",
    "\n",
    "// 子问题的解决方案（索引从0开始）  \n",
    "$A := (n + 1) \\times (C + 1) $二维数组  \n",
    "// 基本情况（$i = 0$）  \n",
    "**for** c = 0 to C **do**   \n",
    "&emsp;&emsp;$A[0][c] = 0$  \n",
    "//系统性地解决所有的子问题  \n",
    "**for** i = 1 to n **do**  \n",
    "&emsp;&emsp;**for** c = 0 to C **do**  \n",
    "&emsp;&emsp;&emsp;&emsp;// 使用**背包问题的推导公式**  \n",
    "&emsp;&emsp;&emsp;&emsp;**if** $s_i$ > c **then**  \n",
    "&emsp;&emsp;&emsp;&emsp;&emsp;&emsp;$A[i][c] := A[i − 1][c]$  \n",
    "&emsp;&emsp;&emsp;&emsp;**else**  \n",
    "&emsp;&emsp;&emsp;&emsp;&emsp;&emsp;$A[i][c] := max \\{ \\underbrace{A[i-1][c]}_{情况1}, \\underbrace{A[i-1][c-s_i] + v_i}_{情况2} \\}$  \n",
    "**return** $A[n][C]$  \n",
    "//最大子问题的解决方案  \n",
    "\n",
    "---"
   ]
  },
  {
   "cell_type": "markdown",
   "id": "9696a68b-3413-49fd-8561-f3e22e990baf",
   "metadata": {},
   "source": []
  },
  {
   "cell_type": "code",
   "execution_count": null,
   "id": "ef3bc819-2c2c-40d5-8e0f-caaf454fe497",
   "metadata": {},
   "outputs": [],
   "source": []
  }
 ],
 "metadata": {
  "kernelspec": {
   "display_name": "Python 3 (ipykernel)",
   "language": "python",
   "name": "python3"
  },
  "language_info": {
   "codemirror_mode": {
    "name": "ipython",
    "version": 3
   },
   "file_extension": ".py",
   "mimetype": "text/x-python",
   "name": "python",
   "nbconvert_exporter": "python",
   "pygments_lexer": "ipython3",
   "version": "3.12.7"
  }
 },
 "nbformat": 4,
 "nbformat_minor": 5
}
